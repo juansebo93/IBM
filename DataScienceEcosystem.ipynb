{
  "metadata": {
    "language_info": {
      "codemirror_mode": {
        "name": "python",
        "version": 3
      },
      "file_extension": ".py",
      "mimetype": "text/x-python",
      "name": "python",
      "nbconvert_exporter": "python",
      "pygments_lexer": "ipython3",
      "version": "3.8"
    },
    "kernelspec": {
      "name": "python",
      "display_name": "Python (Pyodide)",
      "language": "python"
    }
  },
  "nbformat_minor": 4,
  "nbformat": 4,
  "cells": [
    {
      "cell_type": "markdown",
      "source": "# Data Science Tools and Ecosystem",
      "metadata": {}
    },
    {
      "cell_type": "markdown",
      "source": "This notebook aims to introduce you to the basic tools and environments most commonly used in data science, and tries to summarise the most used libraries, programming languages and tools.",
      "metadata": {}
    },
    {
      "cell_type": "markdown",
      "source": "**Objectives:**\n* List popular programming languages for data science.\n* List the most popular libraries used in data science.\n* List the most common tools (IDE's) for data science.\n* Learn the different arithmetic expressions in Python.",
      "metadata": {}
    },
    {
      "cell_type": "markdown",
      "source": "To understand about data science we need to know about the tools that a data science can work with.\nThe basic concept you need to understand are the programming languages.\nThese are the different syntax that programmers or developeres use to let the machine know what they are looking for. The most common programming languages are:\n1. Python.\n2. R.\n3. SQL.\n4. Julia.\n5. Java.\n6. C/C++",
      "metadata": {}
    },
    {
      "cell_type": "markdown",
      "source": "Now that you know which are the programming languages we can start talking about *libraries*, but what is a library? Libraries are resources focused on specific task the ones help to do some work more efficiently and work with certain files or data that the regular programming language cannot or will need tons of lines to do.\nThe most common libraries for data science are:\n1. NumPy (Numerical Python).\n2. Scikit.\n3. SciPy.\n4. TensorFlow.\n5. Keras.\n6. Pandas",
      "metadata": {}
    },
    {
      "cell_type": "markdown",
      "source": "You have the programming language and the libraries to use it or them, but where can you use them? This question comes with a huge world of answers but the one we want to talk about is IDE (Integrated Development Environment). This is the program who runs local on your computer or on the cloud that helps you to compile and execute the task that you want it to do. \nThe most famous IDE in data science are:\n|Data Science Tools|\n|-----------------|\n|Jupyter Notebooks and Jupiter Labs|\n|R Studio|\n|Visual Studio Code|\n|IBM Watson Studio|\n|Spyder|\n",
      "metadata": {}
    },
    {
      "cell_type": "markdown",
      "source": "### Below Below are a few examples of evaluating arithmetic expressions in Python.\n* Adittion = \"+\"\n* Sustraction = \"-\"\n* Multiplication = \"*\"\n* Division = \"/\"\n* Exponential = \"**\"\n* Modulus (remaining) = \"%\"",
      "metadata": {}
    },
    {
      "cell_type": "code",
      "source": "    # In this exercise we will execute a code to multiply and then add 3 values.\n    (3*4)+5",
      "metadata": {
        "trusted": true
      },
      "execution_count": 2,
      "outputs": [
        {
          "execution_count": 2,
          "output_type": "execute_result",
          "data": {
            "text/plain": "17"
          },
          "metadata": {}
        }
      ]
    },
    {
      "cell_type": "code",
      "source": "# In this exercise we will convert 200 minutes in hours.\n200/60",
      "metadata": {
        "trusted": true
      },
      "execution_count": 4,
      "outputs": [
        {
          "execution_count": 4,
          "output_type": "execute_result",
          "data": {
            "text/plain": "3.3333333333333335"
          },
          "metadata": {}
        }
      ]
    },
    {
      "cell_type": "markdown",
      "source": "## Author\nJuan Borraez",
      "metadata": {}
    },
    {
      "cell_type": "code",
      "source": "",
      "metadata": {},
      "execution_count": null,
      "outputs": []
    }
  ]
}